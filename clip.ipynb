{
 "cells": [
  {
   "source": [
    "## Clip Dynamic GT and nuScenes"
   ],
   "cell_type": "markdown",
   "metadata": {}
  },
  {
   "cell_type": "code",
   "execution_count": null,
   "id": "99977a67",
   "metadata": {},
   "outputs": [],
   "source": [
    "import cv2\n",
    "import numpy as np\n",
    "import os"
   ]
  },
  {
   "cell_type": "code",
   "execution_count": null,
   "id": "f3b9f1ea",
   "metadata": {},
   "outputs": [],
   "source": [
    "import glob\n",
    "\n",
    "type = 'static'\n",
    "# type = 'dynamic'\n",
    "model_input_folder = '/home/pak/vkr/data/datasets/nuscenes/nuscenes_mini/samples/CAM_FRONT'\n",
    "model_output_folder = '/home/pak/vkr'\n",
    "model_gt_folder = f'/home/pak/vkr/data/datasets/nuscenes/nuscenes_mini/{type}_gt'"
   ]
  },
  {
   "cell_type": "code",
   "execution_count": null,
   "metadata": {},
   "outputs": [],
   "source": [
    "sorted_input_names = sorted(glob.glob(f'{model_input_folder}/**.jpg', recursive=True))\n",
    "\n",
    "image_sample = cv2.imread(sorted_input_names[0])\n",
    "\n",
    "height = image_sample.shape[0]\n",
    "width = image_sample.shape[0]\n",
    "\n",
    "size = (image_sample.shape[1] + image_sample.shape[0], image_sample.shape[0])"
   ]
  },
  {
   "cell_type": "code",
   "execution_count": null,
   "metadata": {},
   "outputs": [],
   "source": [
    "fps = 5\n",
    "out = cv2.VideoWriter(model_output_folder + '/fetched.avi', cv2.VideoWriter_fourcc(*'DIVX'), fps, size)\n",
    "\n",
    "for img_index, img_path in enumerate(sorted_input_names):    \n",
    "    input_image = cv2.imread(img_path)\n",
    "    gt_image = cv2.imread(img_path.replace('samples/CAM_FRONT', f'{type}_gt'))\n",
    "        \n",
    "    gt_image = cv2.resize(\n",
    "        gt_image, dsize=(height, width), interpolation=cv2.INTER_CUBIC\n",
    "    )\n",
    "    data = np.concatenate((input_image, gt_image), 1)\n",
    "    out.write(data)\n",
    "out.release()"
   ]
  },
  {
   "source": [
    "## Clip static+dynamic video"
   ],
   "cell_type": "markdown",
   "metadata": {}
  },
  {
   "cell_type": "code",
   "execution_count": null,
   "id": "13099df5",
   "metadata": {},
   "outputs": [],
   "source": [
    "sorted_input_names = sorted(glob.glob(f'{model_input_folder}/**.jpg', recursive=True))\n",
    "sorted_static_names = sorted(glob.glob(f'{model_output_folder}/static/**.png', recursive=True))\n",
    "\n",
    "image_sample = cv2.imread(sorted_input_names[0])\n",
    "static_sample = cv2.imread(sorted_static_names[0])\n",
    "dynamic_sample = cv2.imread(sorted_static_names[0].replace('static', 'dynamic'))\n",
    "\n",
    "height = image_sample.shape[0]\n",
    "width = image_sample.shape[0]\n",
    "\n",
    "size = (image_sample.shape[1] + image_sample.shape[0], image_sample.shape[0])"
   ]
  },
  {
   "cell_type": "code",
   "execution_count": null,
   "id": "94426760",
   "metadata": {},
   "outputs": [],
   "source": [
    "fps = 5\n",
    "out = cv2.VideoWriter(model_output_folder + '/fetched.avi', cv2.VideoWriter_fourcc(*'DIVX'), fps, size)\n",
    "\n",
    "for img_index, img_path in enumerate(sorted_static_names):\n",
    "    assert img_path.split('_')[-1][:-3] == sorted_input_names[img_index].split('_')[-1][:-3]\n",
    "    \n",
    "    input_image = cv2.imread(sorted_input_names[img_index])\n",
    "    static_image = cv2.imread(img_path)\n",
    "    dynamic_image = cv2.imread(img_path.replace('static', 'dynamic'))\n",
    "    \n",
    "    dynamic_image[dynamic_image == 255] = 128\n",
    "    \n",
    "    static_image = cv2.resize(\n",
    "        static_image, dsize=(height, width), interpolation=cv2.INTER_CUBIC\n",
    "    )\n",
    "    dynamic_image = cv2.resize(\n",
    "        dynamic_image, dsize=(height, width), interpolation=cv2.INTER_CUBIC\n",
    "    )\n",
    "    data = np.concatenate((input_image, dynamic_image + static_image), 1)\n",
    "    out.write(data)\n",
    "out.release()"
   ]
  },
  {
   "source": [
    "## Make train-val split"
   ],
   "cell_type": "markdown",
   "metadata": {}
  },
  {
   "cell_type": "code",
   "execution_count": null,
   "metadata": {},
   "outputs": [],
   "source": [
    "import os\n",
    "import glob"
   ]
  },
  {
   "cell_type": "code",
   "execution_count": null,
   "metadata": {},
   "outputs": [],
   "source": [
    "model_gt_folder = '/home/pak/vkr/data/datasets/nuscenes/nuscenes_mini/dynamic_gt'\n",
    "\n",
    "arr = sorted(glob.glob(f'{model_gt_folder}/**.jpg', recursive=True))"
   ]
  },
  {
   "cell_type": "code",
   "execution_count": null,
   "metadata": {},
   "outputs": [],
   "source": [
    "arr1 = ['static' + x[58:] for x in arr]"
   ]
  },
  {
   "cell_type": "code",
   "execution_count": null,
   "metadata": {},
   "outputs": [],
   "source": [
    "with open('/home/pak/vkr/monolayout/splits/nuscenes/train_files.txt', 'w') as outfile:\n",
    "    for x in arr1:\n",
    "        outfile.write(x)\n",
    "        outfile.write('\\n')\n",
    "\n",
    "with open('/home/pak/vkr/monolayout/splits/nuscenes/valid_files.txt', 'w') as outfile:\n",
    "    for x in arr1:\n",
    "        outfile.write(x)\n",
    "        outfile.write('\\n')"
   ]
  },
  {
   "source": [
    "## Get Static GT"
   ],
   "cell_type": "markdown",
   "metadata": {}
  },
  {
   "cell_type": "code",
   "execution_count": null,
   "metadata": {},
   "outputs": [],
   "source": [
    "import argparse\n",
    "import os\n",
    "\n",
    "from matplotlib import pyplot as plt\n",
    "\n",
    "from nuscenes.nuscenes import NuScenes\n",
    "from nuscenes.utils.data_classes import transform_matrix, Quaternion\n",
    "\n",
    "from nuscenes.map_expansion.map_api import NuScenesMap\n",
    "from nuscenes.map_expansion import arcline_path_utils\n",
    "from nuscenes.map_expansion.bitmap import BitMap\n",
    "\n",
    "import numpy as np\n",
    "\n",
    "from PIL import Image\n",
    "from skimage.draw import polygon\n"
   ]
  },
  {
   "cell_type": "code",
   "execution_count": null,
   "metadata": {},
   "outputs": [],
   "source": [
    "data_root = '/home/pak/vkr/data/datasets/nuscenes/nuscenes_mini/'\n",
    "nusc_version = 'v1.0-mini'\n",
    "\n",
    "nusc = NuScenes(version=nusc_version, dataroot=data_root, verbose=True)"
   ]
  },
  {
   "cell_type": "code",
   "execution_count": null,
   "metadata": {},
   "outputs": [],
   "source": [
    "def get_mask_angle(ego_pose, cam_pose):\n",
    "    cam2ego = transform_matrix(cam_pose['translation'], Quaternion(cam_pose['rotation']), inverse=False)\n",
    "    ego2world = transform_matrix(ego_pose['translation'], Quaternion(ego_pose['rotation']), inverse=False)\n",
    "    cam2world = np.dot(ego2world, cam2ego)\n",
    "\n",
    "    rel_unit = np.dot(cam2world, [0, 0, 1, 0])\n",
    "    angle = 180 -180*np.arctan2(rel_unit[0], rel_unit[1]) / np.pi\n",
    "\n",
    "    return angle\n"
   ]
  },
  {
   "cell_type": "code",
   "execution_count": null,
   "metadata": {},
   "outputs": [],
   "source": [
    "occ_width, occ_height = 256, 256\n",
    "sensor = 'CAM_FRONT'\n",
    "\n",
    "output_dir = f'{data_root}/static_gt'\n",
    "\n",
    "if not os.path.exists(output_dir):\n",
    "    os.makedirs(output_dir)\n",
    "\n",
    "old_location = None\n",
    "\n",
    "for sample in nusc.sample:\n",
    "    my_sample = nusc.get('sample', sample['token'])\n",
    "\n",
    "    cam_front_data = nusc.get('sample_data', my_sample['data'][sensor])\n",
    "    ego_pose = nusc.get('ego_pose', cam_front_data['ego_pose_token'])\n",
    "    cam_pose = nusc.get('calibrated_sensor', cam_front_data['calibrated_sensor_token'])\n",
    "    scene = nusc.get('scene', my_sample['scene_token'])\n",
    "    log = nusc.get('log', scene['log_token'])\n",
    "\n",
    "    if old_location != log['location']:\n",
    "        nusc_map = NuScenesMap(dataroot=data_root, map_name=log['location'])\n",
    "        old_location = log['location']\n",
    "\n",
    "    scale = 32\n",
    "\n",
    "    patch_box = [\n",
    "        ego_pose['translation'][0],\n",
    "        ego_pose['translation'][1],\n",
    "        2 * scale,\n",
    "        2 * scale\n",
    "    ]\n",
    "    patch_angle = get_mask_angle(ego_pose, cam_pose)\n",
    "    layer_names = ['drivable_area']\n",
    "\n",
    "\n",
    "    map_mask = nusc_map.get_map_mask(patch_box, patch_angle, layer_names, (2 * occ_width, 2 * occ_height))[0]\n",
    "    map_mask = map_mask[:occ_height, int(occ_width / 2): -int((occ_width + 1) / 2)]\n",
    "\n",
    "    map_mask = np.flip(map_mask, 1)\n",
    "\n",
    "    img = Image.fromarray(map_mask * 255)\n",
    "    img.show()\n",
    "    # nusc.render_sample_data(cam_front_data['token'])\n",
    "    img.save(os.path.join(output_dir, cam_front_data['filename'].split('/')[-1]))\n",
    "\n",
    "    # break"
   ]
  },
  {
   "cell_type": "code",
   "execution_count": null,
   "metadata": {},
   "outputs": [],
   "source": []
  }
 ],
 "metadata": {
  "kernelspec": {
   "name": "python385jvsc74a57bd031f2aee4e71d21fbe5cf8b01ff0e069b9275f58929596ceb00d14d90e3e16cd6",
   "display_name": "Python 3.8.5 64-bit"
  },
  "language_info": {
   "codemirror_mode": {
    "name": "ipython",
    "version": 3
   },
   "file_extension": ".py",
   "mimetype": "text/x-python",
   "name": "python",
   "nbconvert_exporter": "python",
   "pygments_lexer": "ipython3",
   "version": "3.8.5"
  },
  "metadata": {
   "interpreter": {
    "hash": "31f2aee4e71d21fbe5cf8b01ff0e069b9275f58929596ceb00d14d90e3e16cd6"
   }
  }
 },
 "nbformat": 4,
 "nbformat_minor": 5
}