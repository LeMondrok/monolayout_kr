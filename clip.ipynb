{
 "cells": [
  {
   "cell_type": "code",
   "execution_count": 6,
   "id": "99977a67",
   "metadata": {},
   "outputs": [],
   "source": [
    "import cv2\n",
    "import numpy as np\n",
    "import os"
   ]
  },
  {
   "cell_type": "code",
   "execution_count": 3,
   "id": "f3b9f1ea",
   "metadata": {},
   "outputs": [],
   "source": [
    "import glob\n",
    "\n",
    "model_input_folder = '/home/pak/vkr/data/datasets/nuscenes/nuscenes_mini/samples/CAM_FRONT'\n",
    "model_output_folder = '/home/pak/vkr'\n",
    "model_gt_folder = '/home/pak/vkr/data/datasets/nuscenes/nuscenes_mini/gt'"
   ]
  },
  {
   "cell_type": "code",
   "execution_count": 4,
   "metadata": {},
   "outputs": [],
   "source": [
    "sorted_input_names = sorted(glob.glob(f'{model_input_folder}/**.jpg', recursive=True))\n",
    "\n",
    "image_sample = cv2.imread(sorted_input_names[0])\n",
    "\n",
    "height = image_sample.shape[0]\n",
    "width = image_sample.shape[0]\n",
    "\n",
    "size = (image_sample.shape[1] + image_sample.shape[0], image_sample.shape[0])"
   ]
  },
  {
   "cell_type": "code",
   "execution_count": 5,
   "metadata": {},
   "outputs": [],
   "source": [
    "fps = 5\n",
    "out = cv2.VideoWriter(model_output_folder + '/fetched.avi', cv2.VideoWriter_fourcc(*'DIVX'), fps, size)\n",
    "\n",
    "for img_index, img_path in enumerate(sorted_input_names):    \n",
    "    input_image = cv2.imread(img_path)\n",
    "    gt_image = cv2.imread(img_path.replace('samples/CAM_FRONT', 'gt'))\n",
    "        \n",
    "    gt_image = cv2.resize(\n",
    "        gt_image, dsize=(height, width), interpolation=cv2.INTER_CUBIC\n",
    "    )\n",
    "    data = np.concatenate((input_image, gt_image), 1)\n",
    "    out.write(data)\n",
    "out.release()"
   ]
  },
  {
   "cell_type": "code",
   "execution_count": 73,
   "id": "13099df5",
   "metadata": {},
   "outputs": [],
   "source": [
    "sorted_input_names = sorted(glob.glob(f'{model_input_folder}/**.jpg', recursive=True))\n",
    "sorted_static_names = sorted(glob.glob(f'{model_output_folder}/static/**.png', recursive=True))\n",
    "\n",
    "image_sample = cv2.imread(sorted_input_names[0])\n",
    "static_sample = cv2.imread(sorted_static_names[0])\n",
    "dynamic_sample = cv2.imread(sorted_static_names[0].replace('static', 'dynamic'))\n",
    "\n",
    "height = image_sample.shape[0]\n",
    "width = image_sample.shape[0]\n",
    "\n",
    "size = (image_sample.shape[1] + image_sample.shape[0], image_sample.shape[0])"
   ]
  },
  {
   "cell_type": "code",
   "execution_count": 75,
   "id": "94426760",
   "metadata": {},
   "outputs": [],
   "source": [
    "fps = 5\n",
    "out = cv2.VideoWriter(model_output_folder + '/fetched.avi', cv2.VideoWriter_fourcc(*'DIVX'), fps, size)\n",
    "\n",
    "for img_index, img_path in enumerate(sorted_static_names):\n",
    "    assert img_path.split('_')[-1][:-3] == sorted_input_names[img_index].split('_')[-1][:-3]\n",
    "    \n",
    "    input_image = cv2.imread(sorted_input_names[img_index])\n",
    "    static_image = cv2.imread(img_path)\n",
    "    dynamic_image = cv2.imread(img_path.replace('static', 'dynamic'))\n",
    "    \n",
    "    dynamic_image[dynamic_image == 255] = 128\n",
    "    \n",
    "    static_image = cv2.resize(\n",
    "        static_image, dsize=(height, width), interpolation=cv2.INTER_CUBIC\n",
    "    )\n",
    "    dynamic_image = cv2.resize(\n",
    "        dynamic_image, dsize=(height, width), interpolation=cv2.INTER_CUBIC\n",
    "    )\n",
    "    data = np.concatenate((input_image, dynamic_image + static_image), 1)\n",
    "    out.write(data)\n",
    "out.release()"
   ]
  },
  {
   "cell_type": "code",
   "execution_count": 2,
   "metadata": {},
   "outputs": [],
   "source": [
    "import os\n",
    "import glob"
   ]
  },
  {
   "cell_type": "code",
   "execution_count": 5,
   "metadata": {},
   "outputs": [],
   "source": [
    "model_gt_folder = '/home/pak/vkr/data/datasets/nuscenes/nuscenes_mini/dynamic_gt'\n",
    "\n",
    "arr = sorted(glob.glob(f'{model_gt_folder}/**.jpg', recursive=True))"
   ]
  },
  {
   "cell_type": "code",
   "execution_count": 9,
   "metadata": {},
   "outputs": [],
   "source": [
    "arr1 = ['static' + x[58:] for x in arr]"
   ]
  },
  {
   "cell_type": "code",
   "execution_count": 14,
   "metadata": {},
   "outputs": [],
   "source": [
    "with open('/home/pak/vkr/monolayout/splits/nuscenes/train_files.txt', 'w') as outfile:\n",
    "    for x in arr1:\n",
    "        outfile.write(x)\n",
    "        outfile.write('\\n')\n",
    "\n",
    "with open('/home/pak/vkr/monolayout/splits/nuscenes/valid_files.txt', 'w') as outfile:\n",
    "    for x in arr1:\n",
    "        outfile.write(x)\n",
    "        outfile.write('\\n')"
   ]
  },
  {
   "cell_type": "code",
   "execution_count": null,
   "metadata": {},
   "outputs": [],
   "source": []
  }
 ],
 "metadata": {
  "kernelspec": {
   "name": "python385jvsc74a57bd031f2aee4e71d21fbe5cf8b01ff0e069b9275f58929596ceb00d14d90e3e16cd6",
   "display_name": "Python 3.8.5 64-bit"
  },
  "language_info": {
   "codemirror_mode": {
    "name": "ipython",
    "version": 3
   },
   "file_extension": ".py",
   "mimetype": "text/x-python",
   "name": "python",
   "nbconvert_exporter": "python",
   "pygments_lexer": "ipython3",
   "version": "3.8.5"
  },
  "metadata": {
   "interpreter": {
    "hash": "31f2aee4e71d21fbe5cf8b01ff0e069b9275f58929596ceb00d14d90e3e16cd6"
   }
  }
 },
 "nbformat": 4,
 "nbformat_minor": 5
}