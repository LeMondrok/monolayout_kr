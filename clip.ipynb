{
 "cells": [
  {
   "cell_type": "code",
   "execution_count": 1,
   "id": "99977a67",
   "metadata": {},
   "outputs": [],
   "source": [
    "import cv2\n",
    "import numpy as np\n",
    "import os"
   ]
  },
  {
   "cell_type": "code",
   "execution_count": 71,
   "id": "f3b9f1ea",
   "metadata": {},
   "outputs": [],
   "source": [
    "import glob\n",
    "\n",
    "model_input_folder = '/home/lemondrok/programming/kursa4/data/datasets/numini/sweeps/CAM_FRONT'\n",
    "model_output_folder = '/home/lemondrok/programming/kursa4/data/datasets/numini/model_output/kitti'"
   ]
  },
  {
   "cell_type": "code",
   "execution_count": 73,
   "id": "13099df5",
   "metadata": {},
   "outputs": [],
   "source": [
    "sorted_input_names = sorted(glob.glob(f'{model_input_folder}/**.jpg', recursive=True))\n",
    "sorted_static_names = sorted(glob.glob(f'{model_output_folder}/static/**.png', recursive=True))\n",
    "\n",
    "image_sample = cv2.imread(sorted_input_names[0])\n",
    "static_sample = cv2.imread(sorted_static_names[0])\n",
    "dynamic_sample = cv2.imread(sorted_static_names[0].replace('static', 'dynamic'))\n",
    "\n",
    "height = image_sample.shape[0]\n",
    "width = image_sample.shape[0]\n",
    "\n",
    "size = (image_sample.shape[1] + image_sample.shape[0], image_sample.shape[0])"
   ]
  },
  {
   "cell_type": "code",
   "execution_count": 75,
   "id": "94426760",
   "metadata": {},
   "outputs": [],
   "source": [
    "fps = 5\n",
    "out = cv2.VideoWriter(model_output_folder + '/fetched.avi', cv2.VideoWriter_fourcc(*'DIVX'), fps, size)\n",
    "\n",
    "for img_index, img_path in enumerate(sorted_static_names):\n",
    "    assert img_path.split('_')[-1][:-3] == sorted_input_names[img_index].split('_')[-1][:-3]\n",
    "    \n",
    "    input_image = cv2.imread(sorted_input_names[img_index])\n",
    "    static_image = cv2.imread(img_path)\n",
    "    dynamic_image = cv2.imread(img_path.replace('static', 'dynamic'))\n",
    "    \n",
    "    dynamic_image[dynamic_image == 255] = 128\n",
    "    \n",
    "    static_image = cv2.resize(\n",
    "        static_image, dsize=(height, width), interpolation=cv2.INTER_CUBIC\n",
    "    )\n",
    "    dynamic_image = cv2.resize(\n",
    "        dynamic_image, dsize=(height, width), interpolation=cv2.INTER_CUBIC\n",
    "    )\n",
    "    data = np.concatenate((input_image, dynamic_image + static_image), 1)\n",
    "    out.write(data)\n",
    "out.release()"
   ]
  }
 ],
 "metadata": {
  "kernelspec": {
   "display_name": "Python 3",
   "language": "python",
   "name": "python3"
  },
  "language_info": {
   "codemirror_mode": {
    "name": "ipython",
    "version": 3
   },
   "file_extension": ".py",
   "mimetype": "text/x-python",
   "name": "python",
   "nbconvert_exporter": "python",
   "pygments_lexer": "ipython3",
   "version": "3.7.10"
  }
 },
 "nbformat": 4,
 "nbformat_minor": 5
}
